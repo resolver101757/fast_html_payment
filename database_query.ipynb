{
 "cells": [
  {
   "cell_type": "markdown",
   "metadata": {},
   "source": [
    "# import sqlite3 and connect to the database"
   ]
  },
  {
   "cell_type": "code",
   "execution_count": 3,
   "metadata": {},
   "outputs": [],
   "source": [
    "import sqlite3\n",
    "\n",
    "# Connect to the database\n",
    "conn = sqlite3.connect('data/gens.db')\n",
    "cursor = conn.cursor()"
   ]
  },
  {
   "cell_type": "code",
   "execution_count": 4,
   "metadata": {},
   "outputs": [
    {
     "name": "stdout",
     "output_type": "stream",
     "text": [
      "prompt\n",
      "session_id\n",
      "id\n",
      "folder\n"
     ]
    }
   ],
   "source": [
    "# Retrieve column names from the gens table\n",
    "cursor.execute(\"PRAGMA table_info(gens)\")\n",
    "column_names = cursor.fetchall()\n",
    "\n",
    "# Print the column names\n",
    "for column in column_names:\n",
    "    print(column[1])"
   ]
  },
  {
   "cell_type": "code",
   "execution_count": 3,
   "metadata": {},
   "outputs": [
    {
     "ename": "OperationalError",
     "evalue": "duplicate column name: balance",
     "output_type": "error",
     "traceback": [
      "\u001b[0;31m---------------------------------------------------------------------------\u001b[0m",
      "\u001b[0;31mOperationalError\u001b[0m                          Traceback (most recent call last)",
      "Cell \u001b[0;32mIn[3], line 1\u001b[0m\n\u001b[0;32m----> 1\u001b[0m \u001b[43mcursor\u001b[49m\u001b[38;5;241;43m.\u001b[39;49m\u001b[43mexecute\u001b[49m\u001b[43m(\u001b[49m\u001b[38;5;124;43m\"\u001b[39;49m\u001b[38;5;124;43mALTER TABLE users ADD COLUMN balance INTEGER DEFAULT 0\u001b[39;49m\u001b[38;5;124;43m\"\u001b[39;49m\u001b[43m)\u001b[49m\n",
      "\u001b[0;31mOperationalError\u001b[0m: duplicate column name: balance"
     ]
    }
   ],
   "source": [
    "# add a new column to the users table, required after updating the payment feature\n",
    "cursor.execute(\"ALTER TABLE users ADD COLUMN balance INTEGER DEFAULT 0\")"
   ]
  },
  {
   "cell_type": "code",
   "execution_count": null,
   "metadata": {},
   "outputs": [],
   "source": [
    "# Query the database to retrieve all entries from the gens table\n",
    "cursor.execute(\"SELECT * FROM gens\")\n",
    "rows = cursor.fetchall()\n"
   ]
  },
  {
   "cell_type": "markdown",
   "metadata": {},
   "source": [
    "# get user information "
   ]
  },
  {
   "cell_type": "code",
   "execution_count": 5,
   "metadata": {},
   "outputs": [
    {
     "name": "stdout",
     "output_type": "stream",
     "text": [
      "email\n",
      "magic_link_token\n",
      "magic_link_expiry\n",
      "is_active\n",
      "balance\n"
     ]
    }
   ],
   "source": [
    "# Retrieve column names from the gens table\n",
    "cursor.execute(\"PRAGMA table_info(Users)\")\n",
    "column_names = cursor.fetchall()\n",
    "\n",
    "# Print the column names\n",
    "for column in column_names:\n",
    "    print(column[1])"
   ]
  },
  {
   "cell_type": "code",
   "execution_count": 11,
   "metadata": {},
   "outputs": [],
   "source": [
    "# Update the balance column to 3 for the specified email\n",
    "cursor.execute(\"UPDATE users SET balance = 3 WHERE email = 'kelster101757@hotmail.com'\")\n",
    "conn.commit()\n"
   ]
  },
  {
   "cell_type": "code",
   "execution_count": 10,
   "metadata": {},
   "outputs": [
    {
     "name": "stdout",
     "output_type": "stream",
     "text": [
      "{'email': 'kelster101757@hotmail.com', 'magic_link_token': None, 'magic_link_expiry': None, 'is_active': 1, 'balance': 3}\n"
     ]
    }
   ],
   "source": [
    "# Query the database to retrieve all entries from the users table\n",
    "cursor.execute(\"SELECT * FROM users\")\n",
    "users = cursor.fetchall()\n",
    "\n",
    "# Print the column names and user information next to each other\n",
    "for user in users:\n",
    "    user_info = {column_names[i][1]: user[i] for i in range(len(column_names))}\n",
    "    print(user_info)"
   ]
  },
  {
   "cell_type": "code",
   "execution_count": 7,
   "metadata": {},
   "outputs": [
    {
     "ename": "NameError",
     "evalue": "name 'rows' is not defined",
     "output_type": "error",
     "traceback": [
      "\u001b[0;31m---------------------------------------------------------------------------\u001b[0m",
      "\u001b[0;31mNameError\u001b[0m                                 Traceback (most recent call last)",
      "Cell \u001b[0;32mIn[7], line 2\u001b[0m\n\u001b[1;32m      1\u001b[0m \u001b[38;5;66;03m# Print the contents of the gens table\u001b[39;00m\n\u001b[0;32m----> 2\u001b[0m \u001b[38;5;28;01mfor\u001b[39;00m row \u001b[38;5;129;01min\u001b[39;00m \u001b[43mrows\u001b[49m:\n\u001b[1;32m      3\u001b[0m     \u001b[38;5;28mprint\u001b[39m(row)\n",
      "\u001b[0;31mNameError\u001b[0m: name 'rows' is not defined"
     ]
    }
   ],
   "source": [
    "\n",
    "    "
   ]
  },
  {
   "cell_type": "code",
   "execution_count": 6,
   "metadata": {},
   "outputs": [
    {
     "name": "stdout",
     "output_type": "stream",
     "text": [
      "(1,)\n",
      "(2,)\n",
      "(3,)\n",
      "(4,)\n",
      "(5,)\n",
      "(6,)\n"
     ]
    }
   ],
   "source": [
    "# Query the database to retrieve only the id column from the gens table\n",
    "cursor.execute(\"SELECT id FROM gens\")\n",
    "rows = cursor.fetchall()\n",
    "\n",
    "# Print the id numbers\n",
    "for row in rows:\n",
    "    print(row)\n"
   ]
  },
  {
   "cell_type": "code",
   "execution_count": 4,
   "metadata": {},
   "outputs": [],
   "source": []
  },
  {
   "cell_type": "code",
   "execution_count": 15,
   "metadata": {},
   "outputs": [
    {
     "name": "stdout",
     "output_type": "stream",
     "text": [
      "['5.png', '1.png', '7.png', '4.png', '6.png', '2.png', '3.png']\n"
     ]
    }
   ],
   "source": [
    "import os\n",
    "\n",
    "# Get a list of file names in 'data/gens/' and its subfolders\n",
    "files_list = []\n",
    "for root, dirs, files in os.walk('data/gens/'):\n",
    "    for file in files:\n",
    "        files_list.append(file)\n",
    "print(files_list)\n"
   ]
  },
  {
   "cell_type": "code",
   "execution_count": null,
   "metadata": {},
   "outputs": [],
   "source": []
  },
  {
   "cell_type": "code",
   "execution_count": null,
   "metadata": {},
   "outputs": [],
   "source": [
    "# Close the database connection\n",
    "conn.close()\n"
   ]
  }
 ],
 "metadata": {
  "kernelspec": {
   "display_name": "fasthtml",
   "language": "python",
   "name": "python3"
  },
  "language_info": {
   "codemirror_mode": {
    "name": "ipython",
    "version": 3
   },
   "file_extension": ".py",
   "mimetype": "text/x-python",
   "name": "python",
   "nbconvert_exporter": "python",
   "pygments_lexer": "ipython3",
   "version": "3.12.4"
  }
 },
 "nbformat": 4,
 "nbformat_minor": 2
}
